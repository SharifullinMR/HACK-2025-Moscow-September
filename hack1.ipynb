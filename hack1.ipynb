{
  "cells": [
    {
      "cell_type": "code",
      "execution_count": null,
      "metadata": {
        "colab": {
          "base_uri": "https://localhost:8080/"
        },
        "id": "xU4w9-uw8sKT",
        "outputId": "46289d52-1389-4586-abd6-57254a35f3cf"
      },
      "outputs": [
        {
          "name": "stdout",
          "output_type": "stream",
          "text": [
            "Drive already mounted at /content/drive; to attempt to forcibly remount, call drive.mount(\"/content/drive\", force_remount=True).\n"
          ]
        }
      ],
      "source": [
        "from google.colab import drive\n",
        "drive.mount('/content/drive')"
      ]
    },
    {
      "cell_type": "code",
      "execution_count": 2,
      "metadata": {
        "colab": {
          "base_uri": "https://localhost:8080/"
        },
        "id": "3_F9BAmX91nk",
        "outputId": "e893aa72-71a4-4051-805f-f2e1194d339a"
      },
      "outputs": [
        {
          "name": "stdout",
          "output_type": "stream",
          "text": [
            "Размер: (15436, 1)\n",
            "             sample;annotation\n",
            "aa;[(0     2             'O')]\n",
            "aala;[(0   4             'O')]\n",
            "aarcca;[(0 6             'O')]\n",
            "abon;[(0   4             'O')]\n",
            "abso;[(0   4       'B-BRAND')]\n"
          ]
        }
      ],
      "source": [
        "import pandas as pd\n",
        "\n",
        "file_path = 'train.csv'\n",
        "\n",
        "\n",
        "df = pd.read_csv(file_path, on_bad_lines='skip')  \n",
        "\n",
        "\n",
        "print(f\"Размер: {df.shape}\")\n",
        "print(df.head())"
      ]
    },
    {
      "cell_type": "code",
      "execution_count": 3,
      "metadata": {
        "colab": {
          "base_uri": "https://localhost:8080/"
        },
        "id": "jPVPwhES-DRc",
        "outputId": "1cd2c9a6-7b93-4dee-f41d-0dd89386f842"
      },
      "outputs": [
        {
          "name": "stdout",
          "output_type": "stream",
          "text": [
            "<class 'pandas.core.frame.DataFrame'>\n",
            "MultiIndex: 15436 entries, ('aa;[(0', 2) to ('яяйца;[(0', 5)\n",
            "Data columns (total 1 columns):\n",
            " #   Column             Non-Null Count  Dtype \n",
            "---  ------             --------------  ----- \n",
            " 0   sample;annotation  15436 non-null  object\n",
            "dtypes: object(1)\n",
            "memory usage: 803.2+ KB\n"
          ]
        }
      ],
      "source": [
        "df.info()"
      ]
    },
    {
      "cell_type": "code",
      "execution_count": 4,
      "metadata": {
        "colab": {
          "base_uri": "https://localhost:8080/"
        },
        "id": "mirhrSvdDzT8",
        "outputId": "7501d661-4def-4e37-8ab9-56225cd8a3f0"
      },
      "outputs": [
        {
          "name": "stdout",
          "output_type": "stream",
          "text": [
            "<class 'str'>\n",
            "<class 'list'>\n",
            "[(0, 2, 'O')]\n",
            "   sample         annotation\n",
            "0      aa        [(0, 2, O)]\n",
            "1    aala        [(0, 4, O)]\n",
            "2  aarcca        [(0, 6, O)]\n",
            "3    abon        [(0, 4, O)]\n",
            "4    abso  [(0, 4, B-BRAND)]\n"
          ]
        }
      ],
      "source": [
        "import ast\n",
        "\n",
        "\n",
        "\n",
        "df = pd.read_csv(file_path, sep=';') \n",
        "\n",
        "print(type(df[\"annotation\"].iloc[0]))  # str\n",
        "\n",
        "\n",
        "df[\"annotation\"] = df[\"annotation\"].apply(ast.literal_eval)\n",
        "print(type(df[\"annotation\"].iloc[0]))\n",
        "print(df[\"annotation\"].iloc[0])\n",
        "\n",
        "print(df.head())"
      ]
    },
    {
      "cell_type": "code",
      "execution_count": 5,
      "metadata": {
        "colab": {
          "base_uri": "https://localhost:8080/"
        },
        "id": "oZlJy4NHJvaE",
        "outputId": "cbb3a558-19c8-460f-e628-43634dafe8be"
      },
      "outputs": [
        {
          "name": "stdout",
          "output_type": "stream",
          "text": [
            "            sample                          annotation\n",
            "0               aa                         [(0, 2, O)]\n",
            "1             aala                         [(0, 4, O)]\n",
            "2           aarcca                         [(0, 6, O)]\n",
            "3             abon                         [(0, 4, O)]\n",
            "4             abso                   [(0, 4, B-BRAND)]\n",
            "5     abtoys игруш  [(0, 6, B-BRAND), (7, 12, B-TYPE)]\n",
            "6    abtoys игрушк  [(0, 6, B-BRAND), (7, 13, B-TYPE)]\n",
            "7   abtoys игрушки  [(0, 6, B-BRAND), (7, 14, B-TYPE)]\n",
            "8            acofe                         [(0, 5, O)]\n",
            "9          actimal                   [(0, 7, B-BRAND)]\n",
            "10         actimel                   [(0, 7, B-BRAND)]\n",
            "11       actimeuno                   [(0, 9, B-BRAND)]\n",
            "12        actimino                   [(0, 8, B-BRAND)]\n",
            "13         actimun                   [(0, 7, B-BRAND)]\n",
            "14       actimunno                   [(0, 9, B-BRAND)]\n",
            "15           activ                   [(0, 5, B-BRAND)]\n",
            "16          activa                   [(0, 6, B-BRAND)]\n",
            "17          active                   [(0, 6, B-BRAND)]\n",
            "18       adremaine                   [(0, 9, B-BRAND)]\n",
            "19           adren                   [(0, 5, B-BRAND)]\n",
            "20          adrena                   [(0, 6, B-BRAND)]\n",
            "21        adrenali                   [(0, 8, B-BRAND)]\n",
            "22       adrinalin                   [(0, 9, B-BRAND)]\n",
            "23      adrinaline                  [(0, 10, B-BRAND)]\n",
            "24     afanasiy пи  [(0, 8, B-BRAND), (9, 11, B-TYPE)]\n",
            "25    afanasiy пив  [(0, 8, B-BRAND), (9, 12, B-TYPE)]\n",
            "26   afanasiy пиво  [(0, 8, B-BRAND), (9, 13, B-TYPE)]\n",
            "27     agama треск  [(0, 5, B-BRAND), (6, 11, B-TYPE)]\n",
            "28    agama треска  [(0, 5, B-BRAND), (6, 12, B-TYPE)]\n",
            "29           agata                   [(0, 5, B-BRAND)]\n",
            "30      agnesi пше  [(0, 6, B-BRAND), (7, 10, B-TYPE)]\n",
            "31     agnesi пшен  [(0, 6, B-BRAND), (7, 11, B-TYPE)]\n",
            "32            ahma                   [(0, 4, B-BRAND)]\n",
            "33           ahmad                   [(0, 5, B-BRAND)]\n",
            "34       ahmad tea  [(0, 5, B-BRAND), (6, 9, I-BRAND)]\n",
            "35         ailtero                   [(0, 7, B-BRAND)]\n",
            "36            airw                   [(0, 4, B-BRAND)]\n",
            "37            akba                   [(0, 4, B-BRAND)]\n",
            "38           akmad                   [(0, 5, B-BRAND)]\n",
            "39          aktime                   [(0, 6, B-BRAND)]\n",
            "40         aktimel                   [(0, 7, B-BRAND)]\n",
            "41        aktimuno                   [(0, 8, B-BRAND)]\n",
            "42          albeni                   [(0, 6, B-BRAND)]\n",
            "43         albenia                   [(0, 7, B-BRAND)]\n",
            "44            alen                   [(0, 4, B-BRAND)]\n",
            "45            alie                   [(0, 4, B-BRAND)]\n",
            "46           allen                   [(0, 5, B-BRAND)]\n",
            "47           almak                   [(0, 5, B-BRAND)]\n",
            "48            alme                   [(0, 4, B-BRAND)]\n",
            "49          almeta                   [(0, 6, B-BRAND)]\n"
          ]
        }
      ],
      "source": [
        "print(df.head(50))"
      ]
    },
    {
      "cell_type": "code",
      "execution_count": 6,
      "metadata": {
        "colab": {
          "base_uri": "https://localhost:8080/"
        },
        "id": "Za9qyMpJ-DzV",
        "outputId": "c068fb05-1ad5-4354-86a3-682989adc785"
      },
      "outputs": [
        {
          "name": "stdout",
          "output_type": "stream",
          "text": [
            "<class 'pandas.core.frame.DataFrame'>\n",
            "RangeIndex: 27251 entries, 0 to 27250\n",
            "Data columns (total 2 columns):\n",
            " #   Column      Non-Null Count  Dtype \n",
            "---  ------      --------------  ----- \n",
            " 0   sample      27251 non-null  object\n",
            " 1   annotation  27251 non-null  object\n",
            "dtypes: object(2)\n",
            "memory usage: 425.9+ KB\n"
          ]
        }
      ],
      "source": [
        "df.info()"
      ]
    },
    {
      "cell_type": "code",
      "execution_count": 7,
      "metadata": {
        "colab": {
          "base_uri": "https://localhost:8080/"
        },
        "id": "Hr0Yf6JwGq8r",
        "outputId": "843cfc80-4a56-4eba-b687-34126dd1cc99"
      },
      "outputs": [
        {
          "name": "stdout",
          "output_type": "stream",
          "text": [
            "[('абрикосы', 'B-TYPE'), ('500г', 'B-VOLUME'), ('global', 'B-BRAND'), ('village', 'I-BRAND')]\n"
          ]
        }
      ],
      "source": [
        "def to_bio(query, spans):\n",
        "    labels = [\"O\"] * len(query.split())\n",
        "    tokens = query.split()\n",
        "\n",
        "    for start, end, tag in spans:\n",
        "        word = query[start:end]\n",
        "        for i, tok in enumerate(tokens):\n",
        "            if word.startswith(tok):  \n",
        "                if tag.startswith(\"B-\"):\n",
        "                    labels[i] = tag\n",
        "                elif tag.startswith(\"I-\"):\n",
        "                    labels[i] = tag\n",
        "    return list(zip(tokens, labels))\n",
        "\n",
        "example = to_bio(\"абрикосы 500г global village\", [(0, 8, 'B-TYPE'), (9, 13, 'B-VOLUME'), (14, 20, 'B-BRAND'), (21, 28, 'I-BRAND')])\n",
        "print(example)\n",
        "\n"
      ]
    },
    {
      "cell_type": "code",
      "execution_count": 8,
      "metadata": {
        "colab": {
          "base_uri": "https://localhost:8080/"
        },
        "id": "8WTastgeH2XQ",
        "outputId": "76169488-1fe1-4caf-fcf0-28f56331941e"
      },
      "outputs": [
        {
          "name": "stdout",
          "output_type": "stream",
          "text": [
            "WARNING:tensorflow:From C:\\Users\\Marsohodik\\AppData\\Roaming\\Python\\Python312\\site-packages\\tf_keras\\src\\losses.py:2976: The name tf.losses.sparse_softmax_cross_entropy is deprecated. Please use tf.compat.v1.losses.sparse_softmax_cross_entropy instead.\n",
            "\n"
          ]
        },
        {
          "data": {
            "application/vnd.jupyter.widget-view+json": {
              "model_id": "095e3b2c0d0a4b8ea02b5cd5092c956e",
              "version_major": 2,
              "version_minor": 0
            },
            "text/plain": [
              "tokenizer_config.json:   0%|          | 0.00/401 [00:00<?, ?B/s]"
            ]
          },
          "metadata": {},
          "output_type": "display_data"
        },
        {
          "name": "stderr",
          "output_type": "stream",
          "text": [
            "C:\\Users\\Marsohodik\\AppData\\Roaming\\Python\\Python312\\site-packages\\huggingface_hub\\file_download.py:142: UserWarning: `huggingface_hub` cache-system uses symlinks by default to efficiently store duplicated files but your machine does not support them in C:\\Users\\Marsohodik\\.cache\\huggingface\\hub\\models--cointegrated--rubert-tiny2. Caching files will still work but in a degraded version that might require more space on your disk. This warning can be disabled by setting the `HF_HUB_DISABLE_SYMLINKS_WARNING` environment variable. For more details, see https://huggingface.co/docs/huggingface_hub/how-to-cache#limitations.\n",
            "To support symlinks on Windows, you either need to activate Developer Mode or to run Python as an administrator. In order to activate developer mode, see this article: https://docs.microsoft.com/en-us/windows/apps/get-started/enable-your-device-for-development\n",
            "  warnings.warn(message)\n"
          ]
        },
        {
          "data": {
            "application/vnd.jupyter.widget-view+json": {
              "model_id": "3b5e10b425b04982ac177a051244b097",
              "version_major": 2,
              "version_minor": 0
            },
            "text/plain": [
              "vocab.txt: 0.00B [00:00, ?B/s]"
            ]
          },
          "metadata": {},
          "output_type": "display_data"
        },
        {
          "data": {
            "application/vnd.jupyter.widget-view+json": {
              "model_id": "5e32837d35604ac5a0681d2513840ac3",
              "version_major": 2,
              "version_minor": 0
            },
            "text/plain": [
              "tokenizer.json: 0.00B [00:00, ?B/s]"
            ]
          },
          "metadata": {},
          "output_type": "display_data"
        },
        {
          "data": {
            "application/vnd.jupyter.widget-view+json": {
              "model_id": "c5afe92ce72e410e9c0065b4bb81a9c7",
              "version_major": 2,
              "version_minor": 0
            },
            "text/plain": [
              "special_tokens_map.json:   0%|          | 0.00/112 [00:00<?, ?B/s]"
            ]
          },
          "metadata": {},
          "output_type": "display_data"
        },
        {
          "name": "stdout",
          "output_type": "stream",
          "text": [
            "{'tokens': ['aa'], 'ner_tags': ['O']}\n"
          ]
        }
      ],
      "source": [
        "from transformers import AutoTokenizer, AutoModelForTokenClassification, Trainer, TrainingArguments\n",
        "from datasets import Dataset\n",
        "\n",
        "MODEL = \"cointegrated/rubert-tiny2\" #моделька\n",
        "\n",
        "tokenizer = AutoTokenizer.from_pretrained(MODEL)\n",
        "\n",
        "train_data = []\n",
        "for _, row in df.iterrows():\n",
        "    tokens, labels = zip(*to_bio(row[\"sample\"], row[\"annotation\"]))\n",
        "    train_data.append({\"tokens\": list(tokens), \"ner_tags\": list(labels)})\n",
        "\n",
        "dataset = Dataset.from_list(train_data)\n",
        "print(dataset[0])\n"
      ]
    },
    {
      "cell_type": "code",
      "execution_count": 9,
      "metadata": {
        "colab": {
          "base_uri": "https://localhost:8080/"
        },
        "id": "QVYhnrIwI8DK",
        "outputId": "27486230-d01c-41c2-8eea-44a511fe639c"
      },
      "outputs": [
        {
          "name": "stdout",
          "output_type": "stream",
          "text": [
            "<class 'datasets.arrow_dataset.Dataset'>\n"
          ]
        }
      ],
      "source": [
        "print(type(dataset))"
      ]
    },
    {
      "cell_type": "code",
      "execution_count": 10,
      "metadata": {
        "colab": {
          "base_uri": "https://localhost:8080/"
        },
        "collapsed": true,
        "id": "fb9pnbjdJefD",
        "outputId": "6684abf7-c04e-41b1-89c2-20fcda5b899f"
      },
      "outputs": [
        {
          "name": "stdout",
          "output_type": "stream",
          "text": [
            "+----------+-----------+---------+\n",
            "|   Пример | Токен     | Метка   |\n",
            "+==========+===========+=========+\n",
            "|        1 | aa        | O       |\n",
            "+----------+-----------+---------+\n",
            "|        2 | aala      | O       |\n",
            "+----------+-----------+---------+\n",
            "|        3 | aarcca    | O       |\n",
            "+----------+-----------+---------+\n",
            "|        4 | abon      | O       |\n",
            "+----------+-----------+---------+\n",
            "|        5 | abso      | B-BRAND |\n",
            "+----------+-----------+---------+\n",
            "|        6 | abtoys    | B-BRAND |\n",
            "+----------+-----------+---------+\n",
            "|        6 | игруш     | B-TYPE  |\n",
            "+----------+-----------+---------+\n",
            "|        7 | abtoys    | B-BRAND |\n",
            "+----------+-----------+---------+\n",
            "|        7 | игрушк    | B-TYPE  |\n",
            "+----------+-----------+---------+\n",
            "|        8 | abtoys    | B-BRAND |\n",
            "+----------+-----------+---------+\n",
            "|        8 | игрушки   | B-TYPE  |\n",
            "+----------+-----------+---------+\n",
            "|        9 | acofe     | O       |\n",
            "+----------+-----------+---------+\n",
            "|       10 | actimal   | B-BRAND |\n",
            "+----------+-----------+---------+\n",
            "|       11 | actimel   | B-BRAND |\n",
            "+----------+-----------+---------+\n",
            "|       12 | actimeuno | B-BRAND |\n",
            "+----------+-----------+---------+\n",
            "|       13 | actimino  | B-BRAND |\n",
            "+----------+-----------+---------+\n",
            "|       14 | actimun   | B-BRAND |\n",
            "+----------+-----------+---------+\n",
            "|       15 | actimunno | B-BRAND |\n",
            "+----------+-----------+---------+\n",
            "|       16 | activ     | B-BRAND |\n",
            "+----------+-----------+---------+\n",
            "|       17 | activa    | B-BRAND |\n",
            "+----------+-----------+---------+\n",
            "|       18 | active    | B-BRAND |\n",
            "+----------+-----------+---------+\n",
            "|       19 | adremaine | B-BRAND |\n",
            "+----------+-----------+---------+\n",
            "|       20 | adren     | B-BRAND |\n",
            "+----------+-----------+---------+\n"
          ]
        }
      ],
      "source": [
        "from tabulate import tabulate\n",
        "\n",
        "\n",
        "first_10 = dataset.select(range(min(20, len(dataset))))\n",
        "\n",
        "table_data = []\n",
        "for i, example in enumerate(first_10):\n",
        "    for token, tag in zip(example['tokens'], example['ner_tags']):\n",
        "        table_data.append([i + 1, token, tag])\n",
        "\n",
        "print(tabulate(table_data, headers=['Пример', 'Токен', 'Метка'], tablefmt='grid'))"
      ]
    },
    {
      "cell_type": "code",
      "execution_count": 11,
      "metadata": {
        "colab": {
          "base_uri": "https://localhost:8080/"
        },
        "id": "oUzRTT9EKQPz",
        "outputId": "d43b533c-e8da-4dc1-b886-ea5a17311314"
      },
      "outputs": [
        {
          "name": "stdout",
          "output_type": "stream",
          "text": [
            "{'tokens': ['agama', 'треска'], 'ner_tags': ['B-BRAND', 'B-TYPE']}\n"
          ]
        }
      ],
      "source": [
        "print(dataset[28])"
      ]
    },
    {
      "cell_type": "code",
      "execution_count": 12,
      "metadata": {
        "colab": {
          "base_uri": "https://localhost:8080/"
        },
        "id": "AJcwsPJrKTzE",
        "outputId": "a5dabae1-a4c8-4e11-823b-d38503dc62e7"
      },
      "outputs": [
        {
          "name": "stdout",
          "output_type": "stream",
          "text": [
            "{'B-BRAND': 0, 'B-PERCENT': 1, 'B-TYPE': 2, 'B-VOLUME': 3, 'I-BRAND': 4, 'I-PERCENT': 5, 'I-TYPE': 6, 'I-VOLUME': 7, 'O': 8}\n"
          ]
        }
      ],
      "source": [
        "unique_tags = set(tag for ex in train_data for tag in ex[\"ner_tags\"])\n",
        "label2id = {label: i for i, label in enumerate(sorted(unique_tags))}\n",
        "id2label = {i: label for label, i in label2id.items()}\n",
        "\n",
        "print(label2id)"
      ]
    },
    {
      "cell_type": "code",
      "execution_count": 13,
      "metadata": {
        "colab": {
          "base_uri": "https://localhost:8080/",
          "height": 49,
          "referenced_widgets": [
            "7c56a5e1e01f4e76b8c1337563062416",
            "4c3e28b3b19e4c938fa92fb3231326d6",
            "f53f7f59015440fda388e63a135f7ac3",
            "8233f26cd6dd49788784f607cd1c19f6",
            "249f486375324863a8ae0181d9359147",
            "bef1054b80ee4977bab3c69628c4223e",
            "6d995faaa26745b79f79b0c3e9e60e55",
            "9021389c6b4744b89a8f5f1a6ce86a80",
            "ef923ff2506546bbbf84d68d5f47977c",
            "cb514d3772654726a0905fefadd2e0d4",
            "f1873d9d0ba1495cb0d0e011a2221179"
          ]
        },
        "id": "qOQXV9jBMqQ-",
        "outputId": "2d8f77d6-3a06-4afd-9600-7febbda0755d"
      },
      "outputs": [
        {
          "data": {
            "application/vnd.jupyter.widget-view+json": {
              "model_id": "bc9d0e7daa3b4005a87db3c0dfac2bf9",
              "version_major": 2,
              "version_minor": 0
            },
            "text/plain": [
              "Map:   0%|          | 0/27251 [00:00<?, ? examples/s]"
            ]
          },
          "metadata": {},
          "output_type": "display_data"
        }
      ],
      "source": [
        "def tokenize_and_align_labels(examples):\n",
        "    tokenized_inputs = tokenizer(\n",
        "        examples[\"tokens\"],\n",
        "        truncation=True,\n",
        "        is_split_into_words=True,  \n",
        "    )\n",
        "\n",
        "    labels = []\n",
        "    for i, label in enumerate(examples[\"ner_tags\"]):\n",
        "        word_ids = tokenized_inputs.word_ids(batch_index=i)  \n",
        "        label_ids = []\n",
        "        previous_word_idx = None\n",
        "        for word_idx in word_ids:\n",
        "            if word_idx is None:\n",
        "                label_ids.append(-100)  #спецтокен\n",
        "            elif word_idx != previous_word_idx:\n",
        "                label_ids.append(label2id[label[word_idx]])  \n",
        "            else:\n",
        "                label_ids.append(label2id[label[word_idx]])\n",
        "            previous_word_idx = word_idx\n",
        "        labels.append(label_ids)\n",
        "\n",
        "    tokenized_inputs[\"labels\"] = labels\n",
        "    return tokenized_inputs\n",
        "\n",
        "tokenized_dataset = dataset.map(tokenize_and_align_labels, batched=True)"
      ]
    },
    {
      "cell_type": "code",
      "execution_count": 14,
      "metadata": {
        "colab": {
          "base_uri": "https://localhost:8080/"
        },
        "id": "fDYiHELQMuar",
        "outputId": "8d80efad-a527-498b-ff40-9463187be02a"
      },
      "outputs": [
        {
          "data": {
            "text/plain": [
              "Dataset({\n",
              "    features: ['tokens', 'ner_tags', 'input_ids', 'token_type_ids', 'attention_mask', 'labels'],\n",
              "    num_rows: 27251\n",
              "})"
            ]
          },
          "execution_count": 14,
          "metadata": {},
          "output_type": "execute_result"
        }
      ],
      "source": [
        "\n",
        "tokenized_dataset"
      ]
    },
    {
      "cell_type": "code",
      "execution_count": 15,
      "metadata": {
        "colab": {
          "base_uri": "https://localhost:8080/"
        },
        "collapsed": true,
        "id": "dqtUSlIPNV1N",
        "outputId": "fce2016c-38a8-4435-e98f-ad29e36ccd46"
      },
      "outputs": [
        {
          "name": "stdout",
          "output_type": "stream",
          "text": [
            "+----------+-----------+--------------+------------+---------+\n",
            "|   Пример |   Позиция | BERT Токен   |   Label ID | Метка   |\n",
            "+==========+===========+==============+============+=========+\n",
            "|        1 |         0 | [CLS]        |       -100 | IGNORE  |\n",
            "+----------+-----------+--------------+------------+---------+\n",
            "|        1 |         1 | aa           |          8 | O       |\n",
            "+----------+-----------+--------------+------------+---------+\n",
            "|        1 |         2 | [SEP]        |       -100 | IGNORE  |\n",
            "+----------+-----------+--------------+------------+---------+\n",
            "|        2 |         0 | [CLS]        |       -100 | IGNORE  |\n",
            "+----------+-----------+--------------+------------+---------+\n",
            "|        2 |         1 | aa           |          8 | O       |\n",
            "+----------+-----------+--------------+------------+---------+\n",
            "|        2 |         2 | ##la         |          8 | O       |\n",
            "+----------+-----------+--------------+------------+---------+\n",
            "|        2 |         3 | [SEP]        |       -100 | IGNORE  |\n",
            "+----------+-----------+--------------+------------+---------+\n",
            "|        3 |         0 | [CLS]        |       -100 | IGNORE  |\n",
            "+----------+-----------+--------------+------------+---------+\n",
            "|        3 |         1 | aa           |          8 | O       |\n",
            "+----------+-----------+--------------+------------+---------+\n",
            "|        3 |         2 | ##rc         |          8 | O       |\n",
            "+----------+-----------+--------------+------------+---------+\n",
            "|        3 |         3 | ##ca         |          8 | O       |\n",
            "+----------+-----------+--------------+------------+---------+\n",
            "|        3 |         4 | [SEP]        |       -100 | IGNORE  |\n",
            "+----------+-----------+--------------+------------+---------+\n",
            "|        4 |         0 | [CLS]        |       -100 | IGNORE  |\n",
            "+----------+-----------+--------------+------------+---------+\n",
            "|        4 |         1 | ab           |          8 | O       |\n",
            "+----------+-----------+--------------+------------+---------+\n",
            "|        4 |         2 | ##on         |          8 | O       |\n",
            "+----------+-----------+--------------+------------+---------+\n",
            "|        4 |         3 | [SEP]        |       -100 | IGNORE  |\n",
            "+----------+-----------+--------------+------------+---------+\n",
            "|        5 |         0 | [CLS]        |       -100 | IGNORE  |\n",
            "+----------+-----------+--------------+------------+---------+\n",
            "|        5 |         1 | ab           |          0 | B-BRAND |\n",
            "+----------+-----------+--------------+------------+---------+\n",
            "|        5 |         2 | ##so         |          0 | B-BRAND |\n",
            "+----------+-----------+--------------+------------+---------+\n",
            "|        5 |         3 | [SEP]        |       -100 | IGNORE  |\n",
            "+----------+-----------+--------------+------------+---------+\n",
            "|        6 |         0 | [CLS]        |       -100 | IGNORE  |\n",
            "+----------+-----------+--------------+------------+---------+\n",
            "|        6 |         1 | ab           |          0 | B-BRAND |\n",
            "+----------+-----------+--------------+------------+---------+\n",
            "|        6 |         2 | ##to         |          0 | B-BRAND |\n",
            "+----------+-----------+--------------+------------+---------+\n",
            "|        6 |         3 | ##ys         |          0 | B-BRAND |\n",
            "+----------+-----------+--------------+------------+---------+\n",
            "|        6 |         4 | игру         |          2 | B-TYPE  |\n",
            "+----------+-----------+--------------+------------+---------+\n",
            "|        6 |         5 | ##ш          |          2 | B-TYPE  |\n",
            "+----------+-----------+--------------+------------+---------+\n",
            "|        6 |         6 | [SEP]        |       -100 | IGNORE  |\n",
            "+----------+-----------+--------------+------------+---------+\n",
            "|        7 |         0 | [CLS]        |       -100 | IGNORE  |\n",
            "+----------+-----------+--------------+------------+---------+\n",
            "|        7 |         1 | ab           |          0 | B-BRAND |\n",
            "+----------+-----------+--------------+------------+---------+\n",
            "|        7 |         2 | ##to         |          0 | B-BRAND |\n",
            "+----------+-----------+--------------+------------+---------+\n",
            "|        7 |         3 | ##ys         |          0 | B-BRAND |\n",
            "+----------+-----------+--------------+------------+---------+\n",
            "|        7 |         4 | игру         |          2 | B-TYPE  |\n",
            "+----------+-----------+--------------+------------+---------+\n",
            "|        7 |         5 | ##ш          |          2 | B-TYPE  |\n",
            "+----------+-----------+--------------+------------+---------+\n",
            "|        7 |         6 | ##к          |          2 | B-TYPE  |\n",
            "+----------+-----------+--------------+------------+---------+\n",
            "|        7 |         7 | [SEP]        |       -100 | IGNORE  |\n",
            "+----------+-----------+--------------+------------+---------+\n",
            "|        8 |         0 | [CLS]        |       -100 | IGNORE  |\n",
            "+----------+-----------+--------------+------------+---------+\n",
            "|        8 |         1 | ab           |          0 | B-BRAND |\n",
            "+----------+-----------+--------------+------------+---------+\n",
            "|        8 |         2 | ##to         |          0 | B-BRAND |\n",
            "+----------+-----------+--------------+------------+---------+\n",
            "|        8 |         3 | ##ys         |          0 | B-BRAND |\n",
            "+----------+-----------+--------------+------------+---------+\n",
            "|        8 |         4 | игрушки      |          2 | B-TYPE  |\n",
            "+----------+-----------+--------------+------------+---------+\n",
            "|        8 |         5 | [SEP]        |       -100 | IGNORE  |\n",
            "+----------+-----------+--------------+------------+---------+\n",
            "|        9 |         0 | [CLS]        |       -100 | IGNORE  |\n",
            "+----------+-----------+--------------+------------+---------+\n",
            "|        9 |         1 | ac           |          8 | O       |\n",
            "+----------+-----------+--------------+------------+---------+\n",
            "|        9 |         2 | ##of         |          8 | O       |\n",
            "+----------+-----------+--------------+------------+---------+\n",
            "|        9 |         3 | ##e          |          8 | O       |\n",
            "+----------+-----------+--------------+------------+---------+\n",
            "|        9 |         4 | [SEP]        |       -100 | IGNORE  |\n",
            "+----------+-----------+--------------+------------+---------+\n",
            "|       10 |         0 | [CLS]        |       -100 | IGNORE  |\n",
            "+----------+-----------+--------------+------------+---------+\n",
            "|       10 |         1 | act          |          0 | B-BRAND |\n",
            "+----------+-----------+--------------+------------+---------+\n",
            "|       10 |         2 | ##ima        |          0 | B-BRAND |\n",
            "+----------+-----------+--------------+------------+---------+\n",
            "|       10 |         3 | ##l          |          0 | B-BRAND |\n",
            "+----------+-----------+--------------+------------+---------+\n",
            "|       10 |         4 | [SEP]        |       -100 | IGNORE  |\n",
            "+----------+-----------+--------------+------------+---------+\n",
            "|       11 |         0 | [CLS]        |       -100 | IGNORE  |\n",
            "+----------+-----------+--------------+------------+---------+\n",
            "|       11 |         1 | act          |          0 | B-BRAND |\n",
            "+----------+-----------+--------------+------------+---------+\n",
            "|       11 |         2 | ##ime        |          0 | B-BRAND |\n",
            "+----------+-----------+--------------+------------+---------+\n",
            "|       11 |         3 | ##l          |          0 | B-BRAND |\n",
            "+----------+-----------+--------------+------------+---------+\n",
            "|       11 |         4 | [SEP]        |       -100 | IGNORE  |\n",
            "+----------+-----------+--------------+------------+---------+\n",
            "|       12 |         0 | [CLS]        |       -100 | IGNORE  |\n",
            "+----------+-----------+--------------+------------+---------+\n",
            "|       12 |         1 | act          |          0 | B-BRAND |\n",
            "+----------+-----------+--------------+------------+---------+\n",
            "|       12 |         2 | ##ime        |          0 | B-BRAND |\n",
            "+----------+-----------+--------------+------------+---------+\n",
            "|       12 |         3 | ##un         |          0 | B-BRAND |\n",
            "+----------+-----------+--------------+------------+---------+\n",
            "|       12 |         4 | ##o          |          0 | B-BRAND |\n",
            "+----------+-----------+--------------+------------+---------+\n",
            "|       12 |         5 | [SEP]        |       -100 | IGNORE  |\n",
            "+----------+-----------+--------------+------------+---------+\n",
            "|       13 |         0 | [CLS]        |       -100 | IGNORE  |\n",
            "+----------+-----------+--------------+------------+---------+\n",
            "|       13 |         1 | act          |          0 | B-BRAND |\n",
            "+----------+-----------+--------------+------------+---------+\n",
            "|       13 |         2 | ##imi        |          0 | B-BRAND |\n",
            "+----------+-----------+--------------+------------+---------+\n",
            "|       13 |         3 | ##no         |          0 | B-BRAND |\n",
            "+----------+-----------+--------------+------------+---------+\n",
            "|       13 |         4 | [SEP]        |       -100 | IGNORE  |\n",
            "+----------+-----------+--------------+------------+---------+\n",
            "|       14 |         0 | [CLS]        |       -100 | IGNORE  |\n",
            "+----------+-----------+--------------+------------+---------+\n",
            "|       14 |         1 | act          |          0 | B-BRAND |\n",
            "+----------+-----------+--------------+------------+---------+\n",
            "|       14 |         2 | ##imu        |          0 | B-BRAND |\n",
            "+----------+-----------+--------------+------------+---------+\n",
            "|       14 |         3 | ##n          |          0 | B-BRAND |\n",
            "+----------+-----------+--------------+------------+---------+\n",
            "|       14 |         4 | [SEP]        |       -100 | IGNORE  |\n",
            "+----------+-----------+--------------+------------+---------+\n",
            "|       15 |         0 | [CLS]        |       -100 | IGNORE  |\n",
            "+----------+-----------+--------------+------------+---------+\n",
            "|       15 |         1 | act          |          0 | B-BRAND |\n",
            "+----------+-----------+--------------+------------+---------+\n",
            "|       15 |         2 | ##imu        |          0 | B-BRAND |\n",
            "+----------+-----------+--------------+------------+---------+\n",
            "|       15 |         3 | ##nno        |          0 | B-BRAND |\n",
            "+----------+-----------+--------------+------------+---------+\n",
            "|       15 |         4 | [SEP]        |       -100 | IGNORE  |\n",
            "+----------+-----------+--------------+------------+---------+\n",
            "|       16 |         0 | [CLS]        |       -100 | IGNORE  |\n",
            "+----------+-----------+--------------+------------+---------+\n",
            "|       16 |         1 | act          |          0 | B-BRAND |\n",
            "+----------+-----------+--------------+------------+---------+\n",
            "|       16 |         2 | ##iv         |          0 | B-BRAND |\n",
            "+----------+-----------+--------------+------------+---------+\n",
            "|       16 |         3 | [SEP]        |       -100 | IGNORE  |\n",
            "+----------+-----------+--------------+------------+---------+\n",
            "|       17 |         0 | [CLS]        |       -100 | IGNORE  |\n",
            "+----------+-----------+--------------+------------+---------+\n",
            "|       17 |         1 | activa       |          0 | B-BRAND |\n",
            "+----------+-----------+--------------+------------+---------+\n",
            "|       17 |         2 | [SEP]        |       -100 | IGNORE  |\n",
            "+----------+-----------+--------------+------------+---------+\n",
            "|       18 |         0 | [CLS]        |       -100 | IGNORE  |\n",
            "+----------+-----------+--------------+------------+---------+\n",
            "|       18 |         1 | active       |          0 | B-BRAND |\n",
            "+----------+-----------+--------------+------------+---------+\n",
            "|       18 |         2 | [SEP]        |       -100 | IGNORE  |\n",
            "+----------+-----------+--------------+------------+---------+\n",
            "|       19 |         0 | [CLS]        |       -100 | IGNORE  |\n",
            "+----------+-----------+--------------+------------+---------+\n",
            "|       19 |         1 | ad           |          0 | B-BRAND |\n",
            "+----------+-----------+--------------+------------+---------+\n",
            "|       19 |         2 | ##rem        |          0 | B-BRAND |\n",
            "+----------+-----------+--------------+------------+---------+\n",
            "|       19 |         3 | ##aine       |          0 | B-BRAND |\n",
            "+----------+-----------+--------------+------------+---------+\n",
            "|       19 |         4 | [SEP]        |       -100 | IGNORE  |\n",
            "+----------+-----------+--------------+------------+---------+\n",
            "|       20 |         0 | [CLS]        |       -100 | IGNORE  |\n",
            "+----------+-----------+--------------+------------+---------+\n",
            "|       20 |         1 | ad           |          0 | B-BRAND |\n",
            "+----------+-----------+--------------+------------+---------+\n",
            "|       20 |         2 | ##ren        |          0 | B-BRAND |\n",
            "+----------+-----------+--------------+------------+---------+\n",
            "|       20 |         3 | [SEP]        |       -100 | IGNORE  |\n",
            "+----------+-----------+--------------+------------+---------+\n",
            "|       21 |         0 | [CLS]        |       -100 | IGNORE  |\n",
            "+----------+-----------+--------------+------------+---------+\n",
            "|       21 |         1 | ad           |          0 | B-BRAND |\n",
            "+----------+-----------+--------------+------------+---------+\n",
            "|       21 |         2 | ##rena       |          0 | B-BRAND |\n",
            "+----------+-----------+--------------+------------+---------+\n",
            "|       21 |         3 | [SEP]        |       -100 | IGNORE  |\n",
            "+----------+-----------+--------------+------------+---------+\n",
            "|       22 |         0 | [CLS]        |       -100 | IGNORE  |\n",
            "+----------+-----------+--------------+------------+---------+\n",
            "|       22 |         1 | ad           |          0 | B-BRAND |\n",
            "+----------+-----------+--------------+------------+---------+\n",
            "|       22 |         2 | ##rena       |          0 | B-BRAND |\n",
            "+----------+-----------+--------------+------------+---------+\n",
            "|       22 |         3 | ##li         |          0 | B-BRAND |\n",
            "+----------+-----------+--------------+------------+---------+\n",
            "|       22 |         4 | [SEP]        |       -100 | IGNORE  |\n",
            "+----------+-----------+--------------+------------+---------+\n",
            "|       23 |         0 | [CLS]        |       -100 | IGNORE  |\n",
            "+----------+-----------+--------------+------------+---------+\n",
            "|       23 |         1 | ad           |          0 | B-BRAND |\n",
            "+----------+-----------+--------------+------------+---------+\n",
            "|       23 |         2 | ##rina       |          0 | B-BRAND |\n",
            "+----------+-----------+--------------+------------+---------+\n",
            "|       23 |         3 | ##lin        |          0 | B-BRAND |\n",
            "+----------+-----------+--------------+------------+---------+\n",
            "|       23 |         4 | [SEP]        |       -100 | IGNORE  |\n",
            "+----------+-----------+--------------+------------+---------+\n",
            "|       24 |         0 | [CLS]        |       -100 | IGNORE  |\n",
            "+----------+-----------+--------------+------------+---------+\n",
            "|       24 |         1 | ad           |          0 | B-BRAND |\n",
            "+----------+-----------+--------------+------------+---------+\n",
            "|       24 |         2 | ##rina       |          0 | B-BRAND |\n",
            "+----------+-----------+--------------+------------+---------+\n",
            "|       24 |         3 | ##line       |          0 | B-BRAND |\n",
            "+----------+-----------+--------------+------------+---------+\n",
            "|       24 |         4 | [SEP]        |       -100 | IGNORE  |\n",
            "+----------+-----------+--------------+------------+---------+\n",
            "|       25 |         0 | [CLS]        |       -100 | IGNORE  |\n",
            "+----------+-----------+--------------+------------+---------+\n",
            "|       25 |         1 | af           |          0 | B-BRAND |\n",
            "+----------+-----------+--------------+------------+---------+\n",
            "|       25 |         2 | ##ana        |          0 | B-BRAND |\n",
            "+----------+-----------+--------------+------------+---------+\n",
            "|       25 |         3 | ##si         |          0 | B-BRAND |\n",
            "+----------+-----------+--------------+------------+---------+\n",
            "|       25 |         4 | ##y          |          0 | B-BRAND |\n",
            "+----------+-----------+--------------+------------+---------+\n",
            "|       25 |         5 | пи           |          2 | B-TYPE  |\n",
            "+----------+-----------+--------------+------------+---------+\n",
            "|       25 |         6 | [SEP]        |       -100 | IGNORE  |\n",
            "+----------+-----------+--------------+------------+---------+\n",
            "|       26 |         0 | [CLS]        |       -100 | IGNORE  |\n",
            "+----------+-----------+--------------+------------+---------+\n",
            "|       26 |         1 | af           |          0 | B-BRAND |\n",
            "+----------+-----------+--------------+------------+---------+\n",
            "|       26 |         2 | ##ana        |          0 | B-BRAND |\n",
            "+----------+-----------+--------------+------------+---------+\n",
            "|       26 |         3 | ##si         |          0 | B-BRAND |\n",
            "+----------+-----------+--------------+------------+---------+\n",
            "|       26 |         4 | ##y          |          0 | B-BRAND |\n",
            "+----------+-----------+--------------+------------+---------+\n",
            "|       26 |         5 | пив          |          2 | B-TYPE  |\n",
            "+----------+-----------+--------------+------------+---------+\n",
            "|       26 |         6 | [SEP]        |       -100 | IGNORE  |\n",
            "+----------+-----------+--------------+------------+---------+\n",
            "|       27 |         0 | [CLS]        |       -100 | IGNORE  |\n",
            "+----------+-----------+--------------+------------+---------+\n",
            "|       27 |         1 | af           |          0 | B-BRAND |\n",
            "+----------+-----------+--------------+------------+---------+\n",
            "|       27 |         2 | ##ana        |          0 | B-BRAND |\n",
            "+----------+-----------+--------------+------------+---------+\n",
            "|       27 |         3 | ##si         |          0 | B-BRAND |\n",
            "+----------+-----------+--------------+------------+---------+\n",
            "|       27 |         4 | ##y          |          0 | B-BRAND |\n",
            "+----------+-----------+--------------+------------+---------+\n",
            "|       27 |         5 | пиво         |          2 | B-TYPE  |\n",
            "+----------+-----------+--------------+------------+---------+\n",
            "|       27 |         6 | [SEP]        |       -100 | IGNORE  |\n",
            "+----------+-----------+--------------+------------+---------+\n",
            "|       28 |         0 | [CLS]        |       -100 | IGNORE  |\n",
            "+----------+-----------+--------------+------------+---------+\n",
            "|       28 |         1 | aga          |          0 | B-BRAND |\n",
            "+----------+-----------+--------------+------------+---------+\n",
            "|       28 |         2 | ##ma         |          0 | B-BRAND |\n",
            "+----------+-----------+--------------+------------+---------+\n",
            "|       28 |         3 | трес         |          2 | B-TYPE  |\n",
            "+----------+-----------+--------------+------------+---------+\n",
            "|       28 |         4 | ##к          |          2 | B-TYPE  |\n",
            "+----------+-----------+--------------+------------+---------+\n",
            "|       28 |         5 | [SEP]        |       -100 | IGNORE  |\n",
            "+----------+-----------+--------------+------------+---------+\n",
            "|       29 |         0 | [CLS]        |       -100 | IGNORE  |\n",
            "+----------+-----------+--------------+------------+---------+\n",
            "|       29 |         1 | aga          |          0 | B-BRAND |\n",
            "+----------+-----------+--------------+------------+---------+\n",
            "|       29 |         2 | ##ma         |          0 | B-BRAND |\n",
            "+----------+-----------+--------------+------------+---------+\n",
            "|       29 |         3 | трес         |          2 | B-TYPE  |\n",
            "+----------+-----------+--------------+------------+---------+\n",
            "|       29 |         4 | ##ка         |          2 | B-TYPE  |\n",
            "+----------+-----------+--------------+------------+---------+\n",
            "|       29 |         5 | [SEP]        |       -100 | IGNORE  |\n",
            "+----------+-----------+--------------+------------+---------+\n",
            "|       30 |         0 | [CLS]        |       -100 | IGNORE  |\n",
            "+----------+-----------+--------------+------------+---------+\n",
            "|       30 |         1 | aga          |          0 | B-BRAND |\n",
            "+----------+-----------+--------------+------------+---------+\n",
            "|       30 |         2 | ##ta         |          0 | B-BRAND |\n",
            "+----------+-----------+--------------+------------+---------+\n",
            "|       30 |         3 | [SEP]        |       -100 | IGNORE  |\n",
            "+----------+-----------+--------------+------------+---------+\n",
            "|       31 |         0 | [CLS]        |       -100 | IGNORE  |\n",
            "+----------+-----------+--------------+------------+---------+\n",
            "|       31 |         1 | ag           |          0 | B-BRAND |\n",
            "+----------+-----------+--------------+------------+---------+\n",
            "|       31 |         2 | ##nesi       |          0 | B-BRAND |\n",
            "+----------+-----------+--------------+------------+---------+\n",
            "|       31 |         3 | п            |          2 | B-TYPE  |\n",
            "+----------+-----------+--------------+------------+---------+\n",
            "|       31 |         4 | ##ше         |          2 | B-TYPE  |\n",
            "+----------+-----------+--------------+------------+---------+\n",
            "|       31 |         5 | [SEP]        |       -100 | IGNORE  |\n",
            "+----------+-----------+--------------+------------+---------+\n",
            "|       32 |         0 | [CLS]        |       -100 | IGNORE  |\n",
            "+----------+-----------+--------------+------------+---------+\n",
            "|       32 |         1 | ag           |          0 | B-BRAND |\n",
            "+----------+-----------+--------------+------------+---------+\n",
            "|       32 |         2 | ##nesi       |          0 | B-BRAND |\n",
            "+----------+-----------+--------------+------------+---------+\n",
            "|       32 |         3 | п            |          2 | B-TYPE  |\n",
            "+----------+-----------+--------------+------------+---------+\n",
            "|       32 |         4 | ##шен        |          2 | B-TYPE  |\n",
            "+----------+-----------+--------------+------------+---------+\n",
            "|       32 |         5 | [SEP]        |       -100 | IGNORE  |\n",
            "+----------+-----------+--------------+------------+---------+\n",
            "|       33 |         0 | [CLS]        |       -100 | IGNORE  |\n",
            "+----------+-----------+--------------+------------+---------+\n",
            "|       33 |         1 | ah           |          0 | B-BRAND |\n",
            "+----------+-----------+--------------+------------+---------+\n",
            "|       33 |         2 | ##ma         |          0 | B-BRAND |\n",
            "+----------+-----------+--------------+------------+---------+\n",
            "|       33 |         3 | [SEP]        |       -100 | IGNORE  |\n",
            "+----------+-----------+--------------+------------+---------+\n",
            "|       34 |         0 | [CLS]        |       -100 | IGNORE  |\n",
            "+----------+-----------+--------------+------------+---------+\n",
            "|       34 |         1 | ah           |          0 | B-BRAND |\n",
            "+----------+-----------+--------------+------------+---------+\n",
            "|       34 |         2 | ##mad        |          0 | B-BRAND |\n",
            "+----------+-----------+--------------+------------+---------+\n",
            "|       34 |         3 | [SEP]        |       -100 | IGNORE  |\n",
            "+----------+-----------+--------------+------------+---------+\n",
            "|       35 |         0 | [CLS]        |       -100 | IGNORE  |\n",
            "+----------+-----------+--------------+------------+---------+\n",
            "|       35 |         1 | ah           |          0 | B-BRAND |\n",
            "+----------+-----------+--------------+------------+---------+\n",
            "|       35 |         2 | ##mad        |          0 | B-BRAND |\n",
            "+----------+-----------+--------------+------------+---------+\n",
            "|       35 |         3 | tea          |          4 | I-BRAND |\n",
            "+----------+-----------+--------------+------------+---------+\n",
            "|       35 |         4 | [SEP]        |       -100 | IGNORE  |\n",
            "+----------+-----------+--------------+------------+---------+\n",
            "|       36 |         0 | [CLS]        |       -100 | IGNORE  |\n",
            "+----------+-----------+--------------+------------+---------+\n",
            "|       36 |         1 | ail          |          0 | B-BRAND |\n",
            "+----------+-----------+--------------+------------+---------+\n",
            "|       36 |         2 | ##tero       |          0 | B-BRAND |\n",
            "+----------+-----------+--------------+------------+---------+\n",
            "|       36 |         3 | [SEP]        |       -100 | IGNORE  |\n",
            "+----------+-----------+--------------+------------+---------+\n",
            "|       37 |         0 | [CLS]        |       -100 | IGNORE  |\n",
            "+----------+-----------+--------------+------------+---------+\n",
            "|       37 |         1 | air          |          0 | B-BRAND |\n",
            "+----------+-----------+--------------+------------+---------+\n",
            "|       37 |         2 | ##w          |          0 | B-BRAND |\n",
            "+----------+-----------+--------------+------------+---------+\n",
            "|       37 |         3 | [SEP]        |       -100 | IGNORE  |\n",
            "+----------+-----------+--------------+------------+---------+\n",
            "|       38 |         0 | [CLS]        |       -100 | IGNORE  |\n",
            "+----------+-----------+--------------+------------+---------+\n",
            "|       38 |         1 | ak           |          0 | B-BRAND |\n",
            "+----------+-----------+--------------+------------+---------+\n",
            "|       38 |         2 | ##ba         |          0 | B-BRAND |\n",
            "+----------+-----------+--------------+------------+---------+\n",
            "|       38 |         3 | [SEP]        |       -100 | IGNORE  |\n",
            "+----------+-----------+--------------+------------+---------+\n",
            "|       39 |         0 | [CLS]        |       -100 | IGNORE  |\n",
            "+----------+-----------+--------------+------------+---------+\n",
            "|       39 |         1 | ak           |          0 | B-BRAND |\n",
            "+----------+-----------+--------------+------------+---------+\n",
            "|       39 |         2 | ##mad        |          0 | B-BRAND |\n",
            "+----------+-----------+--------------+------------+---------+\n",
            "|       39 |         3 | [SEP]        |       -100 | IGNORE  |\n",
            "+----------+-----------+--------------+------------+---------+\n",
            "|       40 |         0 | [CLS]        |       -100 | IGNORE  |\n",
            "+----------+-----------+--------------+------------+---------+\n",
            "|       40 |         1 | ak           |          0 | B-BRAND |\n",
            "+----------+-----------+--------------+------------+---------+\n",
            "|       40 |         2 | ##time       |          0 | B-BRAND |\n",
            "+----------+-----------+--------------+------------+---------+\n",
            "|       40 |         3 | [SEP]        |       -100 | IGNORE  |\n",
            "+----------+-----------+--------------+------------+---------+\n",
            "|       41 |         0 | [CLS]        |       -100 | IGNORE  |\n",
            "+----------+-----------+--------------+------------+---------+\n",
            "|       41 |         1 | ak           |          0 | B-BRAND |\n",
            "+----------+-----------+--------------+------------+---------+\n",
            "|       41 |         2 | ##time       |          0 | B-BRAND |\n",
            "+----------+-----------+--------------+------------+---------+\n",
            "|       41 |         3 | ##l          |          0 | B-BRAND |\n",
            "+----------+-----------+--------------+------------+---------+\n",
            "|       41 |         4 | [SEP]        |       -100 | IGNORE  |\n",
            "+----------+-----------+--------------+------------+---------+\n",
            "|       42 |         0 | [CLS]        |       -100 | IGNORE  |\n",
            "+----------+-----------+--------------+------------+---------+\n",
            "|       42 |         1 | ak           |          0 | B-BRAND |\n",
            "+----------+-----------+--------------+------------+---------+\n",
            "|       42 |         2 | ##tim        |          0 | B-BRAND |\n",
            "+----------+-----------+--------------+------------+---------+\n",
            "|       42 |         3 | ##un         |          0 | B-BRAND |\n",
            "+----------+-----------+--------------+------------+---------+\n",
            "|       42 |         4 | ##o          |          0 | B-BRAND |\n",
            "+----------+-----------+--------------+------------+---------+\n",
            "|       42 |         5 | [SEP]        |       -100 | IGNORE  |\n",
            "+----------+-----------+--------------+------------+---------+\n",
            "|       43 |         0 | [CLS]        |       -100 | IGNORE  |\n",
            "+----------+-----------+--------------+------------+---------+\n",
            "|       43 |         1 | alb          |          0 | B-BRAND |\n",
            "+----------+-----------+--------------+------------+---------+\n",
            "|       43 |         2 | ##eni        |          0 | B-BRAND |\n",
            "+----------+-----------+--------------+------------+---------+\n",
            "|       43 |         3 | [SEP]        |       -100 | IGNORE  |\n",
            "+----------+-----------+--------------+------------+---------+\n",
            "|       44 |         0 | [CLS]        |       -100 | IGNORE  |\n",
            "+----------+-----------+--------------+------------+---------+\n",
            "|       44 |         1 | alb          |          0 | B-BRAND |\n",
            "+----------+-----------+--------------+------------+---------+\n",
            "|       44 |         2 | ##enia       |          0 | B-BRAND |\n",
            "+----------+-----------+--------------+------------+---------+\n",
            "|       44 |         3 | [SEP]        |       -100 | IGNORE  |\n",
            "+----------+-----------+--------------+------------+---------+\n",
            "|       45 |         0 | [CLS]        |       -100 | IGNORE  |\n",
            "+----------+-----------+--------------+------------+---------+\n",
            "|       45 |         1 | ale          |          0 | B-BRAND |\n",
            "+----------+-----------+--------------+------------+---------+\n",
            "|       45 |         2 | ##n          |          0 | B-BRAND |\n",
            "+----------+-----------+--------------+------------+---------+\n",
            "|       45 |         3 | [SEP]        |       -100 | IGNORE  |\n",
            "+----------+-----------+--------------+------------+---------+\n",
            "|       46 |         0 | [CLS]        |       -100 | IGNORE  |\n",
            "+----------+-----------+--------------+------------+---------+\n",
            "|       46 |         1 | ali          |          0 | B-BRAND |\n",
            "+----------+-----------+--------------+------------+---------+\n",
            "|       46 |         2 | ##e          |          0 | B-BRAND |\n",
            "+----------+-----------+--------------+------------+---------+\n",
            "|       46 |         3 | [SEP]        |       -100 | IGNORE  |\n",
            "+----------+-----------+--------------+------------+---------+\n",
            "|       47 |         0 | [CLS]        |       -100 | IGNORE  |\n",
            "+----------+-----------+--------------+------------+---------+\n",
            "|       47 |         1 | alle         |          0 | B-BRAND |\n",
            "+----------+-----------+--------------+------------+---------+\n",
            "|       47 |         2 | ##n          |          0 | B-BRAND |\n",
            "+----------+-----------+--------------+------------+---------+\n",
            "|       47 |         3 | [SEP]        |       -100 | IGNORE  |\n",
            "+----------+-----------+--------------+------------+---------+\n",
            "|       48 |         0 | [CLS]        |       -100 | IGNORE  |\n",
            "+----------+-----------+--------------+------------+---------+\n",
            "|       48 |         1 | al           |          0 | B-BRAND |\n",
            "+----------+-----------+--------------+------------+---------+\n",
            "|       48 |         2 | ##mak        |          0 | B-BRAND |\n",
            "+----------+-----------+--------------+------------+---------+\n",
            "|       48 |         3 | [SEP]        |       -100 | IGNORE  |\n",
            "+----------+-----------+--------------+------------+---------+\n",
            "|       49 |         0 | [CLS]        |       -100 | IGNORE  |\n",
            "+----------+-----------+--------------+------------+---------+\n",
            "|       49 |         1 | al           |          0 | B-BRAND |\n",
            "+----------+-----------+--------------+------------+---------+\n",
            "|       49 |         2 | ##me         |          0 | B-BRAND |\n",
            "+----------+-----------+--------------+------------+---------+\n",
            "|       49 |         3 | [SEP]        |       -100 | IGNORE  |\n",
            "+----------+-----------+--------------+------------+---------+\n",
            "|       50 |         0 | [CLS]        |       -100 | IGNORE  |\n",
            "+----------+-----------+--------------+------------+---------+\n",
            "|       50 |         1 | al           |          0 | B-BRAND |\n",
            "+----------+-----------+--------------+------------+---------+\n",
            "|       50 |         2 | ##meta       |          0 | B-BRAND |\n",
            "+----------+-----------+--------------+------------+---------+\n",
            "|       50 |         3 | [SEP]        |       -100 | IGNORE  |\n",
            "+----------+-----------+--------------+------------+---------+\n"
          ]
        }
      ],
      "source": [
        "from tabulate import tabulate\n",
        "\n",
        "\n",
        "first_20 = tokenized_dataset.select(range(min(50, len(tokenized_dataset))))\n",
        "\n",
        "table_data = []\n",
        "for i, example in enumerate(first_20):\n",
        "\n",
        "    decoded_tokens = tokenizer.convert_ids_to_tokens(example['input_ids'])\n",
        "\n",
        "    for j, (token, label_id) in enumerate(zip(decoded_tokens, example['labels'])):\n",
        "        #ID меток обратно\n",
        "        if label_id == -100:\n",
        "            tag_str = \"IGNORE\"\n",
        "        else:\n",
        "            tag_str = id2label.get(label_id, f\"UNK_{label_id}\")\n",
        "\n",
        "        table_data.append([i + 1, j, token, label_id, tag_str])\n",
        "\n",
        "print(tabulate(table_data, headers=['Пример', 'Позиция', 'BERT Токен', 'Label ID', 'Метка'], tablefmt='grid'))"
      ]
    },
    {
      "cell_type": "code",
      "execution_count": 16,
      "metadata": {
        "colab": {
          "base_uri": "https://localhost:8080/"
        },
        "id": "wRNIMJpuPMt9",
        "outputId": "31ea8758-ef6f-474e-841a-5ea74f65293e"
      },
      "outputs": [
        {
          "name": "stdout",
          "output_type": "stream",
          "text": [
            "DatasetDict({\n",
            "    train: Dataset({\n",
            "        features: ['tokens', 'ner_tags', 'input_ids', 'token_type_ids', 'attention_mask', 'labels'],\n",
            "        num_rows: 25888\n",
            "    })\n",
            "    test: Dataset({\n",
            "        features: ['tokens', 'ner_tags', 'input_ids', 'token_type_ids', 'attention_mask', 'labels'],\n",
            "        num_rows: 1363\n",
            "    })\n",
            "})\n"
          ]
        }
      ],
      "source": [
        "from datasets import DatasetDict\n",
        "\n",
        "\n",
        "dataset = tokenized_dataset.train_test_split(test_size=0.05, seed=42)\n",
        "\n",
        "\n",
        "print(dataset)"
      ]
    },
    {
      "cell_type": "code",
      "execution_count": 17,
      "metadata": {
        "id": "jAybcpXhPOJk"
      },
      "outputs": [],
      "source": [
        "dataset = DatasetDict({\n",
        "    \"train\": dataset[\"train\"],\n",
        "    \"validation\": dataset[\"test\"]\n",
        "})\n"
      ]
    },
    {
      "cell_type": "code",
      "execution_count": 18,
      "metadata": {
        "colab": {
          "base_uri": "https://localhost:8080/"
        },
        "id": "Kc7KT9IAQT8N",
        "outputId": "6cf01036-3f11-4ddb-f3b1-23aa17a0b8ce"
      },
      "outputs": [
        {
          "name": "stdout",
          "output_type": "stream",
          "text": [
            "Dataset({\n",
            "    features: ['tokens', 'ner_tags', 'input_ids', 'token_type_ids', 'attention_mask', 'labels'],\n",
            "    num_rows: 25888\n",
            "})\n",
            "Dataset({\n",
            "    features: ['tokens', 'ner_tags', 'input_ids', 'token_type_ids', 'attention_mask', 'labels'],\n",
            "    num_rows: 1363\n",
            "})\n"
          ]
        }
      ],
      "source": [
        "print(dataset[\"train\"])\n",
        "print(dataset[\"validation\"])"
      ]
    },
    {
      "cell_type": "code",
      "execution_count": 19,
      "metadata": {
        "id": "uv3BnbtyW_Qa"
      },
      "outputs": [],
      "source": [
        "#лишнее\n",
        "dataset = dataset.remove_columns(['tokens', 'ner_tags','token_type_ids'])"
      ]
    },
    {
      "cell_type": "code",
      "execution_count": 20,
      "metadata": {
        "colab": {
          "base_uri": "https://localhost:8080/"
        },
        "id": "YKQPbumXXoW7",
        "outputId": "ee300563-03ee-4344-8c67-16f9edd3cf6a"
      },
      "outputs": [
        {
          "data": {
            "text/plain": [
              "DatasetDict({\n",
              "    train: Dataset({\n",
              "        features: ['input_ids', 'attention_mask', 'labels'],\n",
              "        num_rows: 25888\n",
              "    })\n",
              "    validation: Dataset({\n",
              "        features: ['input_ids', 'attention_mask', 'labels'],\n",
              "        num_rows: 1363\n",
              "    })\n",
              "})"
            ]
          },
          "execution_count": 20,
          "metadata": {},
          "output_type": "execute_result"
        }
      ],
      "source": [
        "dataset"
      ]
    },
    {
      "cell_type": "code",
      "execution_count": 21,
      "metadata": {
        "id": "GHSPwztpQiAU"
      },
      "outputs": [],
      "source": [
        "from seqeval.metrics import precision_score, recall_score, f1_score, classification_report\n",
        "\n",
        "def compute_metrics(p):\n",
        "    predictions, labels = p\n",
        "    predictions = predictions.argmax(-1)\n",
        "\n",
        "    # Игнорир спецтокенов\n",
        "    true_labels = [[id2label[l] for l in label if l != -100] for label in labels]\n",
        "    true_preds  = [[id2label[p] for (p, l) in zip(pred, label) if l != -100]\n",
        "                   for pred, label in zip(predictions, labels)]\n",
        "\n",
        "    precision = precision_score(true_labels, true_preds)\n",
        "    recall    = recall_score(true_labels, true_preds)\n",
        "    f1        = f1_score(true_labels, true_preds)\n",
        "\n",
        "    return {\n",
        "        \"precision\": precision,\n",
        "        \"recall\": recall,\n",
        "        \"f1\": f1,\n",
        "    }\n"
      ]
    },
    {
      "cell_type": "code",
      "execution_count": 23,
      "metadata": {
        "colab": {
          "base_uri": "https://localhost:8080/",
          "height": 536,
          "referenced_widgets": [
            "7a070efb90ec445ba6996a701a9fb49c",
            "e831cab313514dfd8c05a59c4e8d0548",
            "8584a46ec5ea4209a4d0ce6839796bca",
            "48f3e29cc0f94452b75d5a4c49f0133a",
            "67a606812481424d9365d641a2f8afc9",
            "5319b0a6ab4d49b4901022403f88f5d6",
            "1d4d7962b9ba44d6b8a1eb8c1c5d3ebb",
            "fed1ec6fdc15424880c1c3544f478e20",
            "ac17328b95a3432f918b10fec75604cb",
            "1adc0ab02fcc4fdabd2adee320ad7675",
            "2c60cb36b96a4911ae33ad8a182aa39b"
          ]
        },
        "id": "MXEWb4grOJQ9",
        "outputId": "e4718765-e62c-4722-f41b-679b2c291a0a"
      },
      "outputs": [
        {
          "name": "stderr",
          "output_type": "stream",
          "text": [
            "Some weights of BertForTokenClassification were not initialized from the model checkpoint at cointegrated/rubert-tiny2 and are newly initialized: ['classifier.bias', 'classifier.weight']\n",
            "You should probably TRAIN this model on a down-stream task to be able to use it for predictions and inference.\n",
            "C:\\Users\\Marsohodik\\AppData\\Local\\Temp\\ipykernel_34564\\2444013151.py:30: FutureWarning: `tokenizer` is deprecated and will be removed in version 5.0.0 for `Trainer.__init__`. Use `processing_class` instead.\n",
            "  trainer = Trainer(\n"
          ]
        },
        {
          "data": {
            "text/html": [
              "\n",
              "    <div>\n",
              "      \n",
              "      <progress value='1618' max='1618' style='width:300px; height:20px; vertical-align: middle;'></progress>\n",
              "      [1618/1618 07:30, Epoch 1/1]\n",
              "    </div>\n",
              "    <table border=\"1\" class=\"dataframe\">\n",
              "  <thead>\n",
              " <tr style=\"text-align: left;\">\n",
              "      <th>Epoch</th>\n",
              "      <th>Training Loss</th>\n",
              "      <th>Validation Loss</th>\n",
              "      <th>Precision</th>\n",
              "      <th>Recall</th>\n",
              "      <th>F1</th>\n",
              "    </tr>\n",
              "  </thead>\n",
              "  <tbody>\n",
              "    <tr>\n",
              "      <td>1</td>\n",
              "      <td>0.452500</td>\n",
              "      <td>0.413143</td>\n",
              "      <td>0.869285</td>\n",
              "      <td>0.892325</td>\n",
              "      <td>0.880654</td>\n",
              "    </tr>\n",
              "  </tbody>\n",
              "</table><p>"
            ],
            "text/plain": [
              "<IPython.core.display.HTML object>"
            ]
          },
          "metadata": {},
          "output_type": "display_data"
        },
        {
          "data": {
            "text/plain": [
              "TrainOutput(global_step=1618, training_loss=0.6484211896936443, metrics={'train_runtime': 450.6566, 'train_samples_per_second': 57.445, 'train_steps_per_second': 3.59, 'total_flos': 2853618213888.0, 'train_loss': 0.6484211896936443, 'epoch': 1.0})"
            ]
          },
          "execution_count": 23,
          "metadata": {},
          "output_type": "execute_result"
        }
      ],
      "source": [
        "from transformers import AutoModelForTokenClassification, TrainingArguments, Trainer\n",
        "from transformers import DataCollatorForTokenClassification,EarlyStoppingCallback\n",
        "\n",
        "data_collator = DataCollatorForTokenClassification(tokenizer, padding=True)\n",
        "model = AutoModelForTokenClassification.from_pretrained(\n",
        "    MODEL,\n",
        "    num_labels=len(label2id),\n",
        "    id2label=id2label,\n",
        "    label2id=label2id\n",
        ")\n",
        "\n",
        "args = TrainingArguments(\n",
        "    output_dir=\"./ner-model\",\n",
        "    eval_strategy=\"epoch\",\n",
        "    save_strategy=\"epoch\",\n",
        "    warmup_ratio=0.1,\n",
        "    load_best_model_at_end=True,\n",
        "    metric_for_best_model=\"eval_loss\",\n",
        "    greater_is_better=False,\n",
        "    learning_rate=2e-5,\n",
        "    per_device_train_batch_size=16,\n",
        "    num_train_epochs=1,\n",
        "    weight_decay=0.01,\n",
        "    logging_dir=\"./logs\",\n",
        "    save_total_limit=2,\n",
        "    remove_unused_columns=False,\n",
        "    report_to=\"none\"\n",
        ")\n",
        "\n",
        "trainer = Trainer(\n",
        "    model=model,\n",
        "    args=args,\n",
        "    train_dataset=dataset[\"train\"],\n",
        "    eval_dataset=dataset[\"validation\"],\n",
        "    tokenizer=tokenizer,\n",
        "    compute_metrics=compute_metrics,\n",
        "    data_collator=data_collator\n",
        ")\n",
        "\n",
        "trainer.train()\n"
      ]
    },
    {
      "cell_type": "code",
      "execution_count": null,
      "metadata": {
        "id": "mmZ_WD_tlKW7"
      },
      "outputs": [],
      "source": [
        "from transformers import pipeline, AutoTokenizer\n",
        "\n",
        "model_check = \"./ner-model/checkpoint-18396\"\n",
        "model_name = \"cointegrated/rubert-tiny2\"\n",
        "\n",
        "tokenizer = AutoTokenizer.from_pretrained(model_check)\n",
        "model = AutoModelForTokenClassification.from_pretrained(model_name)\n",
        "\n",
        "ner_pipeline = pipeline(\n",
        "    \"ner\",\n",
        "    model=model,\n",
        "    tokenizer=tokenizer,\n",
        "    aggregation_strategy=None  #каждый токен отдельно\n",
        ")\n",
        "\n",
        "queries = [\n",
        "    \"наггетсы\",\n",
        "    \"кисель\",\n",
        "    \"зубочистки 100шт\",\n",
        "    \"coca cola 1л\",\n",
        "    \"coca cola zero\",\n",
        "    \"форма для выпечки\",\n",
        "    \"сок ананасовый без сахара\",\n",
        "    \"молоко 2.5%\"\n",
        "\n",
        "]\n",
        "\n",
        "results = []\n",
        "\n",
        "for idx, query in enumerate(queries, 1):\n",
        "    predictions = ner_pipeline(query)\n",
        "    predictions = sorted(predictions, key=lambda x: x['start'])\n",
        "\n",
        "    words = [(m.start(), m.end(), m.group()) for m in re.finditer(r'\\S+', query)]\n",
        "\n",
        "    word_labels = []\n",
        "    prev_entity_type = None  #чтобы определить B/I\n",
        "    for w_start, w_end, word in words:\n",
        "        # ищем токены, которые полностью входят в слово\n",
        "        tokens_in_word = [t for t in predictions if t['start'] >= w_start and t['end'] <= w_end]\n",
        "        if not tokens_in_word:\n",
        "            word_labels.append((w_start, w_end, \"O\"))\n",
        "            prev_entity_type = None\n",
        "            continue\n",
        "\n",
        "        first_entity = tokens_in_word[0]['entity']\n",
        "        base_entity = first_entity[2:] if first_entity.startswith((\"B-\", \"I-\")) else first_entity\n",
        "\n",
        "        #для I-ENTITY,\n",
        "        if prev_entity_type == base_entity:\n",
        "            bio_label = f\"I-{base_entity}\"\n",
        "        else:\n",
        "            bio_label = f\"B-{base_entity}\"\n",
        "            prev_entity_type = base_entity\n",
        "\n",
        "        word_labels.append((w_start, w_end, bio_label))\n",
        "\n",
        "    results.append(f\"{idx};{query};{word_labels}\")\n",
        "\n",
        "print(\"id;search_query;annotation\")\n",
        "for r in results:\n",
        "    print(r)"
      ]
    },
    {
      "cell_type": "code",
      "execution_count": null,
      "metadata": {
        "id": "-mcZyadTdvlK"
      },
      "outputs": [],
      "source": [
        "file_path2 = '/content/drive/MyDrive/Colab Notebooks/submission.csv'\n",
        "\n",
        "\n",
        "df2 = pd.read_csv(file_path2, sep=';')  \n",
        "\n",
        "\n",
        "print(type(df2[\"annotation\"].iloc[0]))  \n",
        "  \n",
        "\n",
        "df2[\"annotation\"] = df2[\"annotation\"].apply(ast.literal_eval)\n",
        "print(type(df2[\"annotation\"].iloc[0]))\n",
        "print(df2[\"annotation\"].iloc[0])\n",
        "\n",
        "print(df2.head())"
      ]
    },
    {
      "cell_type": "code",
      "execution_count": null,
      "metadata": {
        "id": "_qZOYeSGoge_"
      },
      "outputs": [],
      "source": [
        "true_labels = df2[['annotation']].copy()\n",
        "true_labels.head()"
      ]
    },
    {
      "cell_type": "code",
      "execution_count": null,
      "metadata": {
        "id": "w3WWT5I3m7nD"
      },
      "outputs": [],
      "source": [
        "df2 = df2.drop('annotation', axis=1)\n",
        "df2"
      ]
    },
    {
      "cell_type": "code",
      "execution_count": null,
      "metadata": {
        "id": "dCfWUm0WnX7s"
      },
      "outputs": [],
      "source": [
        "from transformers import pipeline, AutoTokenizer, AutoModelForTokenClassification\n",
        "import pandas as pd\n",
        "import re\n",
        "\n",
        "\n",
        "MODEL_PATH = \"./ner-model/checkpoint-18396\"\n",
        "MODEL_NAME = \"cointegrated/rubert-tiny\"\n",
        "\n",
        "tokenizer = AutoTokenizer.from_pretrained(MODEL_NAME)\n",
        "model = AutoModelForTokenClassification.from_pretrained(MODEL_PATH)\n",
        "\n",
        "ner_pipeline = pipeline(\n",
        "    \"ner\",\n",
        "    model=model,\n",
        "    tokenizer=tokenizer,\n",
        "    aggregation_strategy=None  \n",
        ")\n",
        "\n",
        "\n",
        "def predict_bio(query):\n",
        "    predictions = ner_pipeline(query)\n",
        "    predictions = sorted(predictions, key=lambda x: x['start'])\n",
        "\n",
        "    words = [(m.start(), m.end(), m.group()) for m in re.finditer(r'\\S+', query)]\n",
        "\n",
        "    word_labels = []\n",
        "    prev_entity_type = None\n",
        "    for w_start, w_end, word in words:\n",
        "        tokens_in_word = [t for t in predictions if t['start'] >= w_start and t['end'] <= w_end]\n",
        "        if not tokens_in_word:\n",
        "            word_labels.append((w_start, w_end, \"O\"))\n",
        "            prev_entity_type = None\n",
        "            continue\n",
        "\n",
        "        first_entity = tokens_in_word[0]['entity']\n",
        "        base_entity = first_entity[2:] if first_entity.startswith((\"B-\", \"I-\")) else first_entity\n",
        "\n",
        "        # B- или I- метка\n",
        "        if prev_entity_type == base_entity:\n",
        "            bio_label = f\"I-{base_entity}\"\n",
        "        else:\n",
        "            bio_label = f\"B-{base_entity}\"\n",
        "            prev_entity_type = base_entity\n",
        "\n",
        "        word_labels.append((w_start, w_end, bio_label))\n",
        "\n",
        "    return word_labels\n",
        "\n",
        "#к каждому запросу\n",
        "annotations = []\n",
        "for idx, row in df2.iterrows():\n",
        "    ann = predict_bio(row['sample'])\n",
        "    annotations.append(ann)\n",
        "\n",
        "df2['annotation'] = annotations\n",
        "\n",
        "\n",
        "df2.head()\n"
      ]
    },
    {
      "cell_type": "code",
      "execution_count": null,
      "metadata": {
        "id": "kDo0oWCepR-J"
      },
      "outputs": [],
      "source": [
        "from collections import defaultdict\n",
        "\n",
        "def compute_macro_f1(df_pred, df_true, annotation_col='annotation'):\n",
        " \n",
        "\n",
        "    y_true = df_true[annotation_col].tolist()\n",
        "    y_pred = df_pred[annotation_col].tolist()\n",
        "\n",
        "    entity_types = ['TYPE', 'BRAND', 'VOLUME', 'PERCENT']\n",
        "    metrics = {etype: {'TP':0, 'FP':0, 'FN':0} for etype in entity_types}\n",
        "\n",
        "    for true_row, pred_row in zip(y_true, y_pred):\n",
        "        true_entities = defaultdict(set)\n",
        "        for start, end, label in true_row:\n",
        "            if label != 'O':\n",
        "                etype = label.split('-')[1] \n",
        "                true_entities[etype].add((start, end))\n",
        "\n",
        "        pred_entities = defaultdict(set)\n",
        "        for start, end, label in pred_row:\n",
        "            if label != 'O':\n",
        "                etype = label.split('-')[1]\n",
        "                pred_entities[etype].add((start, end))\n",
        "\n",
        "        for etype in entity_types:\n",
        "            TP = len(true_entities[etype] & pred_entities[etype])\n",
        "            FP = len(pred_entities[etype] - true_entities[etype])\n",
        "            FN = len(true_entities[etype] - pred_entities[etype])\n",
        "            metrics[etype]['TP'] += TP\n",
        "            metrics[etype]['FP'] += FP\n",
        "            metrics[etype]['FN'] += FN\n",
        "\n",
        "    f1_scores = {}\n",
        "    for etype in entity_types:\n",
        "        TP = metrics[etype]['TP']\n",
        "        FP = metrics[etype]['FP']\n",
        "        FN = metrics[etype]['FN']\n",
        "        precision = TP / (TP + FP) if TP + FP > 0 else 0.0\n",
        "        recall = TP / (TP + FN) if TP + FN > 0 else 0.0\n",
        "        f1 = 2 * precision * recall / (precision + recall) if precision + recall > 0 else 0.0\n",
        "        f1_scores[etype] = f1\n",
        "        print(f\"{etype}: Precision={precision:.3f}, Recall={recall:.3f}, F1={f1:.3f}\")\n",
        "\n",
        "    macro_f1 = sum(f1_scores.values()) / len(entity_types)\n",
        "    print(f\"Macro F1: {macro_f1:.3f}\")\n",
        "\n",
        "    return f1_scores, macro_f1\n"
      ]
    },
    {
      "cell_type": "code",
      "execution_count": null,
      "metadata": {
        "id": "Uq1qkGXBphI1"
      },
      "outputs": [],
      "source": [
        "f1_scores, macro_f1 = compute_macro_f1(df_pred=df2, df_true=true_labels, annotation_col='annotation')\n"
      ]
    },
    {
      "cell_type": "code",
      "execution_count": null,
      "metadata": {
        "id": "xCNtU8oVnqSV"
      },
      "outputs": [],
      "source": [
        "\n",
        "df2.to_csv(\"/content/drive/MyDrive/Colab Notebooks/submission3.csv\", sep=\";\", index=False)\n",
        "\n",
        "\n",
        "print(df2)"
      ]
    }
  ],
  "metadata": {
    "colab": {
      "provenance": []
    },
    "kernelspec": {
      "display_name": "Python 3",
      "name": "python3"
    },
    "language_info": {
      "codemirror_mode": {
        "name": "ipython",
        "version": 3
      },
      "file_extension": ".py",
      "mimetype": "text/x-python",
      "name": "python",
      "nbconvert_exporter": "python",
      "pygments_lexer": "ipython3",
      "version": "3.12.0"
    },
    "widgets": {
      "application/vnd.jupyter.widget-state+json": {
        "1adc0ab02fcc4fdabd2adee320ad7675": {
          "model_module": "@jupyter-widgets/base",
          "model_module_version": "1.2.0",
          "model_name": "LayoutModel",
          "state": {
            "_model_module": "@jupyter-widgets/base",
            "_model_module_version": "1.2.0",
            "_model_name": "LayoutModel",
            "_view_count": null,
            "_view_module": "@jupyter-widgets/base",
            "_view_module_version": "1.2.0",
            "_view_name": "LayoutView",
            "align_content": null,
            "align_items": null,
            "align_self": null,
            "border": null,
            "bottom": null,
            "display": null,
            "flex": null,
            "flex_flow": null,
            "grid_area": null,
            "grid_auto_columns": null,
            "grid_auto_flow": null,
            "grid_auto_rows": null,
            "grid_column": null,
            "grid_gap": null,
            "grid_row": null,
            "grid_template_areas": null,
            "grid_template_columns": null,
            "grid_template_rows": null,
            "height": null,
            "justify_content": null,
            "justify_items": null,
            "left": null,
            "margin": null,
            "max_height": null,
            "max_width": null,
            "min_height": null,
            "min_width": null,
            "object_fit": null,
            "object_position": null,
            "order": null,
            "overflow": null,
            "overflow_x": null,
            "overflow_y": null,
            "padding": null,
            "right": null,
            "top": null,
            "visibility": null,
            "width": null
          }
        },
        "1d4d7962b9ba44d6b8a1eb8c1c5d3ebb": {
          "model_module": "@jupyter-widgets/controls",
          "model_module_version": "1.5.0",
          "model_name": "DescriptionStyleModel",
          "state": {
            "_model_module": "@jupyter-widgets/controls",
            "_model_module_version": "1.5.0",
            "_model_name": "DescriptionStyleModel",
            "_view_count": null,
            "_view_module": "@jupyter-widgets/base",
            "_view_module_version": "1.2.0",
            "_view_name": "StyleView",
            "description_width": ""
          }
        },
        "249f486375324863a8ae0181d9359147": {
          "model_module": "@jupyter-widgets/base",
          "model_module_version": "1.2.0",
          "model_name": "LayoutModel",
          "state": {
            "_model_module": "@jupyter-widgets/base",
            "_model_module_version": "1.2.0",
            "_model_name": "LayoutModel",
            "_view_count": null,
            "_view_module": "@jupyter-widgets/base",
            "_view_module_version": "1.2.0",
            "_view_name": "LayoutView",
            "align_content": null,
            "align_items": null,
            "align_self": null,
            "border": null,
            "bottom": null,
            "display": null,
            "flex": null,
            "flex_flow": null,
            "grid_area": null,
            "grid_auto_columns": null,
            "grid_auto_flow": null,
            "grid_auto_rows": null,
            "grid_column": null,
            "grid_gap": null,
            "grid_row": null,
            "grid_template_areas": null,
            "grid_template_columns": null,
            "grid_template_rows": null,
            "height": null,
            "justify_content": null,
            "justify_items": null,
            "left": null,
            "margin": null,
            "max_height": null,
            "max_width": null,
            "min_height": null,
            "min_width": null,
            "object_fit": null,
            "object_position": null,
            "order": null,
            "overflow": null,
            "overflow_x": null,
            "overflow_y": null,
            "padding": null,
            "right": null,
            "top": null,
            "visibility": null,
            "width": null
          }
        },
        "2c60cb36b96a4911ae33ad8a182aa39b": {
          "model_module": "@jupyter-widgets/controls",
          "model_module_version": "1.5.0",
          "model_name": "DescriptionStyleModel",
          "state": {
            "_model_module": "@jupyter-widgets/controls",
            "_model_module_version": "1.5.0",
            "_model_name": "DescriptionStyleModel",
            "_view_count": null,
            "_view_module": "@jupyter-widgets/base",
            "_view_module_version": "1.2.0",
            "_view_name": "StyleView",
            "description_width": ""
          }
        },
        "48f3e29cc0f94452b75d5a4c49f0133a": {
          "model_module": "@jupyter-widgets/controls",
          "model_module_version": "1.5.0",
          "model_name": "HTMLModel",
          "state": {
            "_dom_classes": [],
            "_model_module": "@jupyter-widgets/controls",
            "_model_module_version": "1.5.0",
            "_model_name": "HTMLModel",
            "_view_count": null,
            "_view_module": "@jupyter-widgets/controls",
            "_view_module_version": "1.5.0",
            "_view_name": "HTMLView",
            "description": "",
            "description_tooltip": null,
            "layout": "IPY_MODEL_1adc0ab02fcc4fdabd2adee320ad7675",
            "placeholder": "​",
            "style": "IPY_MODEL_2c60cb36b96a4911ae33ad8a182aa39b",
            "value": " 1.12G/1.12G [01:05&lt;00:00, 16.9MB/s]"
          }
        },
        "4c3e28b3b19e4c938fa92fb3231326d6": {
          "model_module": "@jupyter-widgets/controls",
          "model_module_version": "1.5.0",
          "model_name": "HTMLModel",
          "state": {
            "_dom_classes": [],
            "_model_module": "@jupyter-widgets/controls",
            "_model_module_version": "1.5.0",
            "_model_name": "HTMLModel",
            "_view_count": null,
            "_view_module": "@jupyter-widgets/controls",
            "_view_module_version": "1.5.0",
            "_view_name": "HTMLView",
            "description": "",
            "description_tooltip": null,
            "layout": "IPY_MODEL_bef1054b80ee4977bab3c69628c4223e",
            "placeholder": "​",
            "style": "IPY_MODEL_6d995faaa26745b79f79b0c3e9e60e55",
            "value": "Map: 100%"
          }
        },
        "5319b0a6ab4d49b4901022403f88f5d6": {
          "model_module": "@jupyter-widgets/base",
          "model_module_version": "1.2.0",
          "model_name": "LayoutModel",
          "state": {
            "_model_module": "@jupyter-widgets/base",
            "_model_module_version": "1.2.0",
            "_model_name": "LayoutModel",
            "_view_count": null,
            "_view_module": "@jupyter-widgets/base",
            "_view_module_version": "1.2.0",
            "_view_name": "LayoutView",
            "align_content": null,
            "align_items": null,
            "align_self": null,
            "border": null,
            "bottom": null,
            "display": null,
            "flex": null,
            "flex_flow": null,
            "grid_area": null,
            "grid_auto_columns": null,
            "grid_auto_flow": null,
            "grid_auto_rows": null,
            "grid_column": null,
            "grid_gap": null,
            "grid_row": null,
            "grid_template_areas": null,
            "grid_template_columns": null,
            "grid_template_rows": null,
            "height": null,
            "justify_content": null,
            "justify_items": null,
            "left": null,
            "margin": null,
            "max_height": null,
            "max_width": null,
            "min_height": null,
            "min_width": null,
            "object_fit": null,
            "object_position": null,
            "order": null,
            "overflow": null,
            "overflow_x": null,
            "overflow_y": null,
            "padding": null,
            "right": null,
            "top": null,
            "visibility": null,
            "width": null
          }
        },
        "67a606812481424d9365d641a2f8afc9": {
          "model_module": "@jupyter-widgets/base",
          "model_module_version": "1.2.0",
          "model_name": "LayoutModel",
          "state": {
            "_model_module": "@jupyter-widgets/base",
            "_model_module_version": "1.2.0",
            "_model_name": "LayoutModel",
            "_view_count": null,
            "_view_module": "@jupyter-widgets/base",
            "_view_module_version": "1.2.0",
            "_view_name": "LayoutView",
            "align_content": null,
            "align_items": null,
            "align_self": null,
            "border": null,
            "bottom": null,
            "display": null,
            "flex": null,
            "flex_flow": null,
            "grid_area": null,
            "grid_auto_columns": null,
            "grid_auto_flow": null,
            "grid_auto_rows": null,
            "grid_column": null,
            "grid_gap": null,
            "grid_row": null,
            "grid_template_areas": null,
            "grid_template_columns": null,
            "grid_template_rows": null,
            "height": null,
            "justify_content": null,
            "justify_items": null,
            "left": null,
            "margin": null,
            "max_height": null,
            "max_width": null,
            "min_height": null,
            "min_width": null,
            "object_fit": null,
            "object_position": null,
            "order": null,
            "overflow": null,
            "overflow_x": null,
            "overflow_y": null,
            "padding": null,
            "right": null,
            "top": null,
            "visibility": null,
            "width": null
          }
        },
        "6d995faaa26745b79f79b0c3e9e60e55": {
          "model_module": "@jupyter-widgets/controls",
          "model_module_version": "1.5.0",
          "model_name": "DescriptionStyleModel",
          "state": {
            "_model_module": "@jupyter-widgets/controls",
            "_model_module_version": "1.5.0",
            "_model_name": "DescriptionStyleModel",
            "_view_count": null,
            "_view_module": "@jupyter-widgets/base",
            "_view_module_version": "1.2.0",
            "_view_name": "StyleView",
            "description_width": ""
          }
        },
        "7a070efb90ec445ba6996a701a9fb49c": {
          "model_module": "@jupyter-widgets/controls",
          "model_module_version": "1.5.0",
          "model_name": "HBoxModel",
          "state": {
            "_dom_classes": [],
            "_model_module": "@jupyter-widgets/controls",
            "_model_module_version": "1.5.0",
            "_model_name": "HBoxModel",
            "_view_count": null,
            "_view_module": "@jupyter-widgets/controls",
            "_view_module_version": "1.5.0",
            "_view_name": "HBoxView",
            "box_style": "",
            "children": [
              "IPY_MODEL_e831cab313514dfd8c05a59c4e8d0548",
              "IPY_MODEL_8584a46ec5ea4209a4d0ce6839796bca",
              "IPY_MODEL_48f3e29cc0f94452b75d5a4c49f0133a"
            ],
            "layout": "IPY_MODEL_67a606812481424d9365d641a2f8afc9"
          }
        },
        "7c56a5e1e01f4e76b8c1337563062416": {
          "model_module": "@jupyter-widgets/controls",
          "model_module_version": "1.5.0",
          "model_name": "HBoxModel",
          "state": {
            "_dom_classes": [],
            "_model_module": "@jupyter-widgets/controls",
            "_model_module_version": "1.5.0",
            "_model_name": "HBoxModel",
            "_view_count": null,
            "_view_module": "@jupyter-widgets/controls",
            "_view_module_version": "1.5.0",
            "_view_name": "HBoxView",
            "box_style": "",
            "children": [
              "IPY_MODEL_4c3e28b3b19e4c938fa92fb3231326d6",
              "IPY_MODEL_f53f7f59015440fda388e63a135f7ac3",
              "IPY_MODEL_8233f26cd6dd49788784f607cd1c19f6"
            ],
            "layout": "IPY_MODEL_249f486375324863a8ae0181d9359147"
          }
        },
        "8233f26cd6dd49788784f607cd1c19f6": {
          "model_module": "@jupyter-widgets/controls",
          "model_module_version": "1.5.0",
          "model_name": "HTMLModel",
          "state": {
            "_dom_classes": [],
            "_model_module": "@jupyter-widgets/controls",
            "_model_module_version": "1.5.0",
            "_model_name": "HTMLModel",
            "_view_count": null,
            "_view_module": "@jupyter-widgets/controls",
            "_view_module_version": "1.5.0",
            "_view_name": "HTMLView",
            "description": "",
            "description_tooltip": null,
            "layout": "IPY_MODEL_cb514d3772654726a0905fefadd2e0d4",
            "placeholder": "​",
            "style": "IPY_MODEL_f1873d9d0ba1495cb0d0e011a2221179",
            "value": " 27251/27251 [00:01&lt;00:00, 14343.70 examples/s]"
          }
        },
        "8584a46ec5ea4209a4d0ce6839796bca": {
          "model_module": "@jupyter-widgets/controls",
          "model_module_version": "1.5.0",
          "model_name": "FloatProgressModel",
          "state": {
            "_dom_classes": [],
            "_model_module": "@jupyter-widgets/controls",
            "_model_module_version": "1.5.0",
            "_model_name": "FloatProgressModel",
            "_view_count": null,
            "_view_module": "@jupyter-widgets/controls",
            "_view_module_version": "1.5.0",
            "_view_name": "ProgressView",
            "bar_style": "success",
            "description": "",
            "description_tooltip": null,
            "layout": "IPY_MODEL_fed1ec6fdc15424880c1c3544f478e20",
            "max": 1115567652,
            "min": 0,
            "orientation": "horizontal",
            "style": "IPY_MODEL_ac17328b95a3432f918b10fec75604cb",
            "value": 1115567652
          }
        },
        "9021389c6b4744b89a8f5f1a6ce86a80": {
          "model_module": "@jupyter-widgets/base",
          "model_module_version": "1.2.0",
          "model_name": "LayoutModel",
          "state": {
            "_model_module": "@jupyter-widgets/base",
            "_model_module_version": "1.2.0",
            "_model_name": "LayoutModel",
            "_view_count": null,
            "_view_module": "@jupyter-widgets/base",
            "_view_module_version": "1.2.0",
            "_view_name": "LayoutView",
            "align_content": null,
            "align_items": null,
            "align_self": null,
            "border": null,
            "bottom": null,
            "display": null,
            "flex": null,
            "flex_flow": null,
            "grid_area": null,
            "grid_auto_columns": null,
            "grid_auto_flow": null,
            "grid_auto_rows": null,
            "grid_column": null,
            "grid_gap": null,
            "grid_row": null,
            "grid_template_areas": null,
            "grid_template_columns": null,
            "grid_template_rows": null,
            "height": null,
            "justify_content": null,
            "justify_items": null,
            "left": null,
            "margin": null,
            "max_height": null,
            "max_width": null,
            "min_height": null,
            "min_width": null,
            "object_fit": null,
            "object_position": null,
            "order": null,
            "overflow": null,
            "overflow_x": null,
            "overflow_y": null,
            "padding": null,
            "right": null,
            "top": null,
            "visibility": null,
            "width": null
          }
        },
        "ac17328b95a3432f918b10fec75604cb": {
          "model_module": "@jupyter-widgets/controls",
          "model_module_version": "1.5.0",
          "model_name": "ProgressStyleModel",
          "state": {
            "_model_module": "@jupyter-widgets/controls",
            "_model_module_version": "1.5.0",
            "_model_name": "ProgressStyleModel",
            "_view_count": null,
            "_view_module": "@jupyter-widgets/base",
            "_view_module_version": "1.2.0",
            "_view_name": "StyleView",
            "bar_color": null,
            "description_width": ""
          }
        },
        "bef1054b80ee4977bab3c69628c4223e": {
          "model_module": "@jupyter-widgets/base",
          "model_module_version": "1.2.0",
          "model_name": "LayoutModel",
          "state": {
            "_model_module": "@jupyter-widgets/base",
            "_model_module_version": "1.2.0",
            "_model_name": "LayoutModel",
            "_view_count": null,
            "_view_module": "@jupyter-widgets/base",
            "_view_module_version": "1.2.0",
            "_view_name": "LayoutView",
            "align_content": null,
            "align_items": null,
            "align_self": null,
            "border": null,
            "bottom": null,
            "display": null,
            "flex": null,
            "flex_flow": null,
            "grid_area": null,
            "grid_auto_columns": null,
            "grid_auto_flow": null,
            "grid_auto_rows": null,
            "grid_column": null,
            "grid_gap": null,
            "grid_row": null,
            "grid_template_areas": null,
            "grid_template_columns": null,
            "grid_template_rows": null,
            "height": null,
            "justify_content": null,
            "justify_items": null,
            "left": null,
            "margin": null,
            "max_height": null,
            "max_width": null,
            "min_height": null,
            "min_width": null,
            "object_fit": null,
            "object_position": null,
            "order": null,
            "overflow": null,
            "overflow_x": null,
            "overflow_y": null,
            "padding": null,
            "right": null,
            "top": null,
            "visibility": null,
            "width": null
          }
        },
        "cb514d3772654726a0905fefadd2e0d4": {
          "model_module": "@jupyter-widgets/base",
          "model_module_version": "1.2.0",
          "model_name": "LayoutModel",
          "state": {
            "_model_module": "@jupyter-widgets/base",
            "_model_module_version": "1.2.0",
            "_model_name": "LayoutModel",
            "_view_count": null,
            "_view_module": "@jupyter-widgets/base",
            "_view_module_version": "1.2.0",
            "_view_name": "LayoutView",
            "align_content": null,
            "align_items": null,
            "align_self": null,
            "border": null,
            "bottom": null,
            "display": null,
            "flex": null,
            "flex_flow": null,
            "grid_area": null,
            "grid_auto_columns": null,
            "grid_auto_flow": null,
            "grid_auto_rows": null,
            "grid_column": null,
            "grid_gap": null,
            "grid_row": null,
            "grid_template_areas": null,
            "grid_template_columns": null,
            "grid_template_rows": null,
            "height": null,
            "justify_content": null,
            "justify_items": null,
            "left": null,
            "margin": null,
            "max_height": null,
            "max_width": null,
            "min_height": null,
            "min_width": null,
            "object_fit": null,
            "object_position": null,
            "order": null,
            "overflow": null,
            "overflow_x": null,
            "overflow_y": null,
            "padding": null,
            "right": null,
            "top": null,
            "visibility": null,
            "width": null
          }
        },
        "e831cab313514dfd8c05a59c4e8d0548": {
          "model_module": "@jupyter-widgets/controls",
          "model_module_version": "1.5.0",
          "model_name": "HTMLModel",
          "state": {
            "_dom_classes": [],
            "_model_module": "@jupyter-widgets/controls",
            "_model_module_version": "1.5.0",
            "_model_name": "HTMLModel",
            "_view_count": null,
            "_view_module": "@jupyter-widgets/controls",
            "_view_module_version": "1.5.0",
            "_view_name": "HTMLView",
            "description": "",
            "description_tooltip": null,
            "layout": "IPY_MODEL_5319b0a6ab4d49b4901022403f88f5d6",
            "placeholder": "​",
            "style": "IPY_MODEL_1d4d7962b9ba44d6b8a1eb8c1c5d3ebb",
            "value": "model.safetensors: 100%"
          }
        },
        "ef923ff2506546bbbf84d68d5f47977c": {
          "model_module": "@jupyter-widgets/controls",
          "model_module_version": "1.5.0",
          "model_name": "ProgressStyleModel",
          "state": {
            "_model_module": "@jupyter-widgets/controls",
            "_model_module_version": "1.5.0",
            "_model_name": "ProgressStyleModel",
            "_view_count": null,
            "_view_module": "@jupyter-widgets/base",
            "_view_module_version": "1.2.0",
            "_view_name": "StyleView",
            "bar_color": null,
            "description_width": ""
          }
        },
        "f1873d9d0ba1495cb0d0e011a2221179": {
          "model_module": "@jupyter-widgets/controls",
          "model_module_version": "1.5.0",
          "model_name": "DescriptionStyleModel",
          "state": {
            "_model_module": "@jupyter-widgets/controls",
            "_model_module_version": "1.5.0",
            "_model_name": "DescriptionStyleModel",
            "_view_count": null,
            "_view_module": "@jupyter-widgets/base",
            "_view_module_version": "1.2.0",
            "_view_name": "StyleView",
            "description_width": ""
          }
        },
        "f53f7f59015440fda388e63a135f7ac3": {
          "model_module": "@jupyter-widgets/controls",
          "model_module_version": "1.5.0",
          "model_name": "FloatProgressModel",
          "state": {
            "_dom_classes": [],
            "_model_module": "@jupyter-widgets/controls",
            "_model_module_version": "1.5.0",
            "_model_name": "FloatProgressModel",
            "_view_count": null,
            "_view_module": "@jupyter-widgets/controls",
            "_view_module_version": "1.5.0",
            "_view_name": "ProgressView",
            "bar_style": "success",
            "description": "",
            "description_tooltip": null,
            "layout": "IPY_MODEL_9021389c6b4744b89a8f5f1a6ce86a80",
            "max": 27251,
            "min": 0,
            "orientation": "horizontal",
            "style": "IPY_MODEL_ef923ff2506546bbbf84d68d5f47977c",
            "value": 27251
          }
        },
        "fed1ec6fdc15424880c1c3544f478e20": {
          "model_module": "@jupyter-widgets/base",
          "model_module_version": "1.2.0",
          "model_name": "LayoutModel",
          "state": {
            "_model_module": "@jupyter-widgets/base",
            "_model_module_version": "1.2.0",
            "_model_name": "LayoutModel",
            "_view_count": null,
            "_view_module": "@jupyter-widgets/base",
            "_view_module_version": "1.2.0",
            "_view_name": "LayoutView",
            "align_content": null,
            "align_items": null,
            "align_self": null,
            "border": null,
            "bottom": null,
            "display": null,
            "flex": null,
            "flex_flow": null,
            "grid_area": null,
            "grid_auto_columns": null,
            "grid_auto_flow": null,
            "grid_auto_rows": null,
            "grid_column": null,
            "grid_gap": null,
            "grid_row": null,
            "grid_template_areas": null,
            "grid_template_columns": null,
            "grid_template_rows": null,
            "height": null,
            "justify_content": null,
            "justify_items": null,
            "left": null,
            "margin": null,
            "max_height": null,
            "max_width": null,
            "min_height": null,
            "min_width": null,
            "object_fit": null,
            "object_position": null,
            "order": null,
            "overflow": null,
            "overflow_x": null,
            "overflow_y": null,
            "padding": null,
            "right": null,
            "top": null,
            "visibility": null,
            "width": null
          }
        }
      }
    }
  },
  "nbformat": 4,
  "nbformat_minor": 0
}
